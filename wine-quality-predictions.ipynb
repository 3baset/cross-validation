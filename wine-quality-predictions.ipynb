{
 "cells": [
  {
   "cell_type": "code",
   "execution_count": 1,
   "metadata": {},
   "outputs": [
    {
     "data": {
      "text/html": [
       "<div>\n",
       "<style scoped>\n",
       "    .dataframe tbody tr th:only-of-type {\n",
       "        vertical-align: middle;\n",
       "    }\n",
       "\n",
       "    .dataframe tbody tr th {\n",
       "        vertical-align: top;\n",
       "    }\n",
       "\n",
       "    .dataframe thead th {\n",
       "        text-align: right;\n",
       "    }\n",
       "</style>\n",
       "<table border=\"1\" class=\"dataframe\">\n",
       "  <thead>\n",
       "    <tr style=\"text-align: right;\">\n",
       "      <th></th>\n",
       "      <th>fixed acidity</th>\n",
       "      <th>volatile acidity</th>\n",
       "      <th>citric acid</th>\n",
       "      <th>residual sugar</th>\n",
       "      <th>chlorides</th>\n",
       "      <th>free sulfur dioxide</th>\n",
       "      <th>total sulfur dioxide</th>\n",
       "      <th>density</th>\n",
       "      <th>pH</th>\n",
       "      <th>sulphates</th>\n",
       "      <th>alcohol</th>\n",
       "      <th>quality</th>\n",
       "    </tr>\n",
       "  </thead>\n",
       "  <tbody>\n",
       "    <tr>\n",
       "      <th>0</th>\n",
       "      <td>7.4</td>\n",
       "      <td>0.70</td>\n",
       "      <td>0.00</td>\n",
       "      <td>1.9</td>\n",
       "      <td>0.076</td>\n",
       "      <td>11.0</td>\n",
       "      <td>34.0</td>\n",
       "      <td>0.9978</td>\n",
       "      <td>3.51</td>\n",
       "      <td>0.56</td>\n",
       "      <td>9.4</td>\n",
       "      <td>5</td>\n",
       "    </tr>\n",
       "    <tr>\n",
       "      <th>1</th>\n",
       "      <td>7.8</td>\n",
       "      <td>0.88</td>\n",
       "      <td>0.00</td>\n",
       "      <td>2.6</td>\n",
       "      <td>0.098</td>\n",
       "      <td>25.0</td>\n",
       "      <td>67.0</td>\n",
       "      <td>0.9968</td>\n",
       "      <td>3.20</td>\n",
       "      <td>0.68</td>\n",
       "      <td>9.8</td>\n",
       "      <td>5</td>\n",
       "    </tr>\n",
       "    <tr>\n",
       "      <th>2</th>\n",
       "      <td>7.8</td>\n",
       "      <td>0.76</td>\n",
       "      <td>0.04</td>\n",
       "      <td>2.3</td>\n",
       "      <td>0.092</td>\n",
       "      <td>15.0</td>\n",
       "      <td>54.0</td>\n",
       "      <td>0.9970</td>\n",
       "      <td>3.26</td>\n",
       "      <td>0.65</td>\n",
       "      <td>9.8</td>\n",
       "      <td>5</td>\n",
       "    </tr>\n",
       "    <tr>\n",
       "      <th>3</th>\n",
       "      <td>11.2</td>\n",
       "      <td>0.28</td>\n",
       "      <td>0.56</td>\n",
       "      <td>1.9</td>\n",
       "      <td>0.075</td>\n",
       "      <td>17.0</td>\n",
       "      <td>60.0</td>\n",
       "      <td>0.9980</td>\n",
       "      <td>3.16</td>\n",
       "      <td>0.58</td>\n",
       "      <td>9.8</td>\n",
       "      <td>6</td>\n",
       "    </tr>\n",
       "    <tr>\n",
       "      <th>4</th>\n",
       "      <td>7.4</td>\n",
       "      <td>0.70</td>\n",
       "      <td>0.00</td>\n",
       "      <td>1.9</td>\n",
       "      <td>0.076</td>\n",
       "      <td>11.0</td>\n",
       "      <td>34.0</td>\n",
       "      <td>0.9978</td>\n",
       "      <td>3.51</td>\n",
       "      <td>0.56</td>\n",
       "      <td>9.4</td>\n",
       "      <td>5</td>\n",
       "    </tr>\n",
       "  </tbody>\n",
       "</table>\n",
       "</div>"
      ],
      "text/plain": [
       "   fixed acidity  volatile acidity  citric acid  residual sugar  chlorides  \\\n",
       "0            7.4              0.70         0.00             1.9      0.076   \n",
       "1            7.8              0.88         0.00             2.6      0.098   \n",
       "2            7.8              0.76         0.04             2.3      0.092   \n",
       "3           11.2              0.28         0.56             1.9      0.075   \n",
       "4            7.4              0.70         0.00             1.9      0.076   \n",
       "\n",
       "   free sulfur dioxide  total sulfur dioxide  density    pH  sulphates  \\\n",
       "0                 11.0                  34.0   0.9978  3.51       0.56   \n",
       "1                 25.0                  67.0   0.9968  3.20       0.68   \n",
       "2                 15.0                  54.0   0.9970  3.26       0.65   \n",
       "3                 17.0                  60.0   0.9980  3.16       0.58   \n",
       "4                 11.0                  34.0   0.9978  3.51       0.56   \n",
       "\n",
       "   alcohol  quality  \n",
       "0      9.4        5  \n",
       "1      9.8        5  \n",
       "2      9.8        5  \n",
       "3      9.8        6  \n",
       "4      9.4        5  "
      ]
     },
     "execution_count": 1,
     "metadata": {},
     "output_type": "execute_result"
    }
   ],
   "source": [
    "# load the data into a data frame\n",
    "\n",
    "import pandas as pd\n",
    "df = pd.read_csv(\"winequality-red.csv\",delimiter=\";\")\n",
    "df.head()"
   ]
  },
  {
   "cell_type": "code",
   "execution_count": 2,
   "metadata": {},
   "outputs": [
    {
     "name": "stdout",
     "output_type": "stream",
     "text": [
      "<class 'pandas.core.frame.DataFrame'>\n",
      "RangeIndex: 1599 entries, 0 to 1598\n",
      "Data columns (total 12 columns):\n",
      " #   Column                Non-Null Count  Dtype  \n",
      "---  ------                --------------  -----  \n",
      " 0   fixed acidity         1599 non-null   float64\n",
      " 1   volatile acidity      1599 non-null   float64\n",
      " 2   citric acid           1599 non-null   float64\n",
      " 3   residual sugar        1599 non-null   float64\n",
      " 4   chlorides             1599 non-null   float64\n",
      " 5   free sulfur dioxide   1599 non-null   float64\n",
      " 6   total sulfur dioxide  1599 non-null   float64\n",
      " 7   density               1599 non-null   float64\n",
      " 8   pH                    1599 non-null   float64\n",
      " 9   sulphates             1599 non-null   float64\n",
      " 10  alcohol               1599 non-null   float64\n",
      " 11  quality               1599 non-null   int64  \n",
      "dtypes: float64(11), int64(1)\n",
      "memory usage: 150.0 KB\n"
     ]
    }
   ],
   "source": [
    "df.info()"
   ]
  },
  {
   "cell_type": "code",
   "execution_count": 3,
   "metadata": {},
   "outputs": [
    {
     "data": {
      "text/plain": [
       "array([5, 6, 7, 4, 8, 3])"
      ]
     },
     "execution_count": 3,
     "metadata": {},
     "output_type": "execute_result"
    }
   ],
   "source": [
    "# how many quality values in the dataset\n",
    "df[\"quality\"].unique()"
   ]
  },
  {
   "cell_type": "code",
   "execution_count": 4,
   "metadata": {},
   "outputs": [],
   "source": [
    "# there are only 6 values for quality in the data set so we will map all quality values from 0 to 5\n",
    "quality_mapping = {\n",
    "    3:0,\n",
    "    4:1,\n",
    "    5:2,\n",
    "    6:3,\n",
    "    7:4,\n",
    "    8:5\n",
    "}\n",
    "\n",
    "df.loc[:,\"quality\"] = df.quality.map(quality_mapping)"
   ]
  },
  {
   "cell_type": "code",
   "execution_count": 5,
   "metadata": {},
   "outputs": [],
   "source": [
    "# shuffling and splitting the data into 1000 samples train and 599 for validation \"hold-out set\"\n",
    "df = df.sample(frac=1).reset_index(drop=True)\n",
    "\n",
    "# top 1000 rows for training\n",
    "df_train = df.head(1000)\n",
    "\n",
    "# bottom 599 for validation\n",
    "df_test = df.tail(599)"
   ]
  },
  {
   "cell_type": "code",
   "execution_count": 13,
   "metadata": {},
   "outputs": [
    {
     "data": {
      "text/plain": [
       "DecisionTreeClassifier(max_depth=3)"
      ]
     },
     "execution_count": 13,
     "metadata": {},
     "output_type": "execute_result"
    }
   ],
   "source": [
    "# train a decision tree model\n",
    "from sklearn import tree\n",
    "from sklearn import metrics\n",
    "\n",
    "# initialze decision tree classifier classs with max_depth of 3\n",
    "clf = tree.DecisionTreeClassifier(max_depth=3)\n",
    "\n",
    "# choose the features I want to train on\n",
    "cols = df_train.columns[:-1]\n",
    "\n",
    "# train the model\n",
    "clf.fit(df_train[cols],df_train.quality)"
   ]
  },
  {
   "cell_type": "code",
   "execution_count": 14,
   "metadata": {},
   "outputs": [],
   "source": [
    "# generate prediction on the training set\n",
    "train_predictions = clf.predict(df_train[cols])"
   ]
  },
  {
   "cell_type": "code",
   "execution_count": 15,
   "metadata": {},
   "outputs": [],
   "source": [
    "# generate predictions on the test set\n",
    "test_predictions = clf.predict(df_test[cols])"
   ]
  },
  {
   "cell_type": "code",
   "execution_count": 16,
   "metadata": {},
   "outputs": [],
   "source": [
    "# calculating the accuracy on the prediction of train\n",
    "train_accuracy = metrics.accuracy_score(\n",
    "    df_train.quality, train_predictions\n",
    ")\n",
    "\n",
    "# calculating the accuracy on the predictio of test\n",
    "test_accuracy = metrics.accuracy_score(\n",
    "    df_test.quality, test_predictions\n",
    ")"
   ]
  },
  {
   "cell_type": "code",
   "execution_count": 18,
   "metadata": {},
   "outputs": [
    {
     "name": "stdout",
     "output_type": "stream",
     "text": [
      "Accuracy on the Training set: 0.636.\n",
      "Accuracy on the Test set: 0.5292153589315526.\n"
     ]
    }
   ],
   "source": [
    "print(f\"Accuracy on the Training set: {train_accuracy}.\\nAccuracy on the Test set: {test_accuracy}.\")"
   ]
  },
  {
   "cell_type": "code",
   "execution_count": 19,
   "metadata": {},
   "outputs": [
    {
     "name": "stdout",
     "output_type": "stream",
     "text": [
      "Accuracy on the Training set: 0.792.\n",
      "Accuracy on the Test set: 0.5459098497495827.\n"
     ]
    }
   ],
   "source": [
    "# with max_depth of 7\n",
    "clf_7 = tree.DecisionTreeClassifier(max_depth=7)\n",
    "clf_7.fit(df_train[cols],df_train.quality)\n",
    "train_predictions_7 = clf_7.predict(df_train[cols])\n",
    "test_predictions_7 = clf_7.predict(df_test[cols])\n",
    "train_accuracy_7 = metrics.accuracy_score(\n",
    "    df_train.quality, train_predictions_7\n",
    ")\n",
    "test_accuracy_7 = metrics.accuracy_score(\n",
    "    df_test.quality, test_predictions_7\n",
    ")\n",
    "print(f\"Accuracy on the Training set: {train_accuracy_7}.\\nAccuracy on the Test set: {test_accuracy_7}.\")"
   ]
  },
  {
   "cell_type": "code",
   "execution_count": 20,
   "metadata": {},
   "outputs": [
    {
     "name": "stdout",
     "output_type": "stream",
     "text": [
      "Accuracy on the Training set: 0.589.\n",
      "Accuracy on the Test set: 0.5125208681135225.\n",
      "Accuracy on the Training set: 0.589.\n",
      "Accuracy on the Test set: 0.5125208681135225.\n",
      "Accuracy on the Training set: 0.636.\n",
      "Accuracy on the Test set: 0.5292153589315526.\n",
      "Accuracy on the Training set: 0.669.\n",
      "Accuracy on the Test set: 0.5175292153589316.\n",
      "Accuracy on the Training set: 0.702.\n",
      "Accuracy on the Test set: 0.5191986644407346.\n",
      "Accuracy on the Training set: 0.746.\n",
      "Accuracy on the Test set: 0.5175292153589316.\n",
      "Accuracy on the Training set: 0.791.\n",
      "Accuracy on the Test set: 0.5442404006677797.\n",
      "Accuracy on the Training set: 0.837.\n",
      "Accuracy on the Test set: 0.5542570951585977.\n",
      "Accuracy on the Training set: 0.862.\n",
      "Accuracy on the Test set: 0.5525876460767947.\n",
      "Accuracy on the Training set: 0.892.\n",
      "Accuracy on the Test set: 0.5442404006677797.\n",
      "Accuracy on the Training set: 0.917.\n",
      "Accuracy on the Test set: 0.5559265442404007.\n",
      "Accuracy on the Training set: 0.942.\n",
      "Accuracy on the Test set: 0.5509181969949917.\n",
      "Accuracy on the Training set: 0.967.\n",
      "Accuracy on the Test set: 0.5726210350584308.\n",
      "Accuracy on the Training set: 0.977.\n",
      "Accuracy on the Test set: 0.5642737896494157.\n",
      "Accuracy on the Training set: 0.99.\n",
      "Accuracy on the Test set: 0.5575959933222037.\n",
      "Accuracy on the Training set: 0.995.\n",
      "Accuracy on the Test set: 0.5559265442404007.\n",
      "Accuracy on the Training set: 0.997.\n",
      "Accuracy on the Test set: 0.5659432387312187.\n",
      "Accuracy on the Training set: 0.998.\n",
      "Accuracy on the Test set: 0.5676126878130217.\n",
      "Accuracy on the Training set: 0.998.\n",
      "Accuracy on the Test set: 0.5592654424040067.\n",
      "Accuracy on the Training set: 0.999.\n",
      "Accuracy on the Test set: 0.5659432387312187.\n",
      "Accuracy on the Training set: 1.0.\n",
      "Accuracy on the Test set: 0.5642737896494157.\n",
      "Accuracy on the Training set: 1.0.\n",
      "Accuracy on the Test set: 0.5676126878130217.\n",
      "Accuracy on the Training set: 1.0.\n",
      "Accuracy on the Test set: 0.5659432387312187.\n",
      "Accuracy on the Training set: 1.0.\n",
      "Accuracy on the Test set: 0.5759599332220368.\n"
     ]
    }
   ],
   "source": [
    "# import liberaries for plotting\n",
    "import matplotlib\n",
    "import matplotlib.pyplot as plt\n",
    "import seaborn as sns\n",
    "\n",
    "# global size of label text\n",
    "matplotlib.rc('xtick', labelsize=20)\n",
    "matplotlib.rc('ytick', labelsize=20)\n",
    "\n",
    "%matplotlib inline\n",
    "\n",
    "# lists to store accuracies\n",
    "train_accuracies = [0.5]\n",
    "test_accuracies = [0.5]\n",
    "\n",
    "# iterate over different depth values\n",
    "for depth in range (1,25):\n",
    "    # initialze decision tree classifier classs\n",
    "    clf_7 = tree.DecisionTreeClassifier(max_depth=depth)\n",
    "    # choose the features I want to train on\n",
    "    cols = df_train.columns[:-1]\n",
    "    # train the model\n",
    "    clf_7.fit(df_train[cols],df_train.quality)\n",
    "    # generate prediction on the training set\n",
    "    train_predictions_7 = clf_7.predict(df_train[cols])\n",
    "    # generate predictions on the test set\n",
    "    test_predictions_7 = clf_7.predict(df_test[cols])\n",
    "    # calculating the accuracy on the prediction of train\n",
    "    train_accuracy_7 = metrics.accuracy_score(\n",
    "        df_train.quality, train_predictions_7\n",
    ")\n",
    "    # calculating the accuracy on the predictio of test\n",
    "    test_accuracy_7 = metrics.accuracy_score(\n",
    "        df_test.quality, test_predictions_7\n",
    ")\n",
    "    print(f\"Accuracy on the Training set: {train_accuracy_7}.\\nAccuracy on the Test set: {test_accuracy_7}.\")\n",
    "    train_accuracies.append(train_accuracy_7)\n",
    "    test_accuracies.append(test_accuracy_7)    "
   ]
  },
  {
   "cell_type": "code",
   "execution_count": 21,
   "metadata": {},
   "outputs": [
    {
     "data": {
      "image/png": "[encoded data removed]",
      "text/plain": [
       "<Figure size 720x360 with 1 Axes>"
      ]
     },
     "metadata": {
      "needs_background": "light"
     },
     "output_type": "display_data"
    }
   ],
   "source": [
    "# plotting the models' accuracies\n",
    "\n",
    "plt.figure(figsize=(10,5))\n",
    "sns.set_style(\"whitegrid\")\n",
    "plt.plot(train_accuracies,label=\"train accuracy\")\n",
    "plt.plot(test_accuracies,label=\"test accuracy\")\n",
    "plt.legend(loc=\"upper left\",prop={\"size\":15})\n",
    "plt.xticks(range(0,26,5))\n",
    "plt.xlabel(\"max_depth\",size=20)\n",
    "plt.ylabel(\"accuracy\",size=20)\n",
    "plt.show()"
   ]
  },
  {
   "cell_type": "code",
   "execution_count": 22,
   "metadata": {},
   "outputs": [],
   "source": [
    "# the best max_depth value is 14 as after that the train accuracy increase but the model start to overfit the training data"
   ]
  }
 ],
 "metadata": {
  "kernelspec": {
   "display_name": "Python 3",
   "language": "python",
   "name": "python3"
  },
  "language_info": {
   "codemirror_mode": {
    "name": "ipython",
    "version": 3
   },
   "file_extension": ".py",
   "mimetype": "text/x-python",
   "name": "python",
   "nbconvert_exporter": "python",
   "pygments_lexer": "ipython3",
   "version": "3.8.5"
  }
 },
 "nbformat": 4,
 "nbformat_minor": 4
}
